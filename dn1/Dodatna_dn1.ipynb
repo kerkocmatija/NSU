{
 "cells": [
  {
   "cell_type": "markdown",
   "id": "under-damage",
   "metadata": {},
   "source": [
    "## Dodatna Domača naloga"
   ]
  },
  {
   "cell_type": "code",
   "execution_count": 2,
   "id": "killing-engineer",
   "metadata": {},
   "outputs": [],
   "source": [
    "# imports\n",
    "import pandas as pd\n",
    "import numpy as np\n",
    "import seaborn as sns\n",
    "import matplotlib.pyplot as plt\n",
    "import random \n",
    "\n",
    "from sklearn.ensemble import BaggingClassifier, RandomForestClassifier\n",
    "from sklearn.linear_model import LinearRegression\n",
    "from sklearn.svm import SVR, SVC\n",
    "from hyperopt import hp, tpe, rand, fmin, Trials, space_eval\n",
    "from hyperopt import pyll, base\n",
    "\n",
    "from sklearn.neighbors import KNeighborsClassifier\n",
    "from sklearn.tree import DecisionTreeClassifier\n",
    "from sklearn.linear_model import LogisticRegression\n",
    "from sklearn.model_selection import train_test_split, cross_val_score, cross_val_predict, cross_validate\n",
    "from sklearn.metrics import accuracy_score, mean_squared_error\n",
    "from sklearn.preprocessing import scale, normalize, MinMaxScaler\n",
    "from sklearn.decomposition import PCA\n",
    "\n",
    "# POZOR! Opozorila skrijemo izključno zaradi opozoril pri sns.distplot.\n",
    "import warnings\n",
    "warnings.filterwarnings('ignore')"
   ]
  },
  {
   "cell_type": "code",
   "execution_count": null,
   "id": "preceding-toolbox",
   "metadata": {},
   "outputs": [],
   "source": [
    "dataset = pd.read_csv('podatki.csv', sep=',')\n",
    "x, y = dataset.iloc[:, :-1], dataset.iloc[:, -1]"
   ]
  },
  {
   "cell_type": "code",
   "execution_count": null,
   "id": "acquired-purpose",
   "metadata": {},
   "outputs": [],
   "source": [
    "x_norm = (x - x.mean()) / (x.max() - x.min())\n",
    "x_train, x_test, y_train, y_test = train_test_split(x_norm, y, test_size=0.25, random_state=123, stratify=y)"
   ]
  },
  {
   "cell_type": "code",
   "execution_count": null,
   "id": "brutal-colon",
   "metadata": {},
   "outputs": [],
   "source": [
    "prostor_drevo = {\n",
    "            'max_depth': hp.choice('max_depth', range(1,51)),\n",
    "            'max_features': hp.choice('max_features', range(1,31)),\n",
    "            'criterion': hp.choice('criterion', [\"gini\", \"entropy\"])\n",
    "}\n",
    "\n",
    "def kriterijska_funkcija_drevo(parametri):\n",
    "    max_depth = parametri[\"max_depth\"]\n",
    "    max_features = parametri[\"max_features\"]\n",
    "    criterion = parametri[\"criterion\"]\n",
    "    model = DecisionTreeClassifier(max_depth=max_depth, max_features=max_features, criterion=criterion)\n",
    "    \n",
    "    return 1-cross_val_score(model, x_train, y_train).mean()"
   ]
  },
  {
   "cell_type": "code",
   "execution_count": null,
   "id": "inappropriate-brand",
   "metadata": {},
   "outputs": [],
   "source": [
    "# tale funkcija je enaka za vse algoritme\n",
    "def poisci_najboljse_parametre(prostor, kriterijska_fun, n_izracunov):\n",
    "    trials = Trials()\n",
    "    best = fmin(fn=kriterijska_fun,\n",
    "                space=prostor,\n",
    "                algo=tpe.suggest,\n",
    "                max_evals=n_izracunov,\n",
    "                trials=trials)\n",
    "    best = space_eval(prostor, best)\n",
    "    best_value = kriterijska_fun(best)\n",
    "    # vse vrednosti paramtrov in kriterijske funkcije, ki smo jih preizkusili\n",
    "    xs = [trial[\"misc\"][\"vals\"] for trial in trials.trials]\n",
    "    ys = [1-trial[\"result\"][\"loss\"] for trial in trials.trials]\n",
    "\n",
    "    print(best, 1-best_value)\n",
    "    return best, xs, ys"
   ]
  },
  {
   "cell_type": "code",
   "execution_count": null,
   "id": "subjective-posting",
   "metadata": {},
   "outputs": [],
   "source": [
    "best_drevo, xs_drevo, ys_drevo = poisci_najboljse_parametre(prostor_drevo, kriterijska_funkcija_drevo, 100)"
   ]
  },
  {
   "cell_type": "code",
   "execution_count": null,
   "id": "international-prerequisite",
   "metadata": {},
   "outputs": [],
   "source": [
    "model_drevo = DecisionTreeClassifier(\n",
    "                max_depth=best_drevo[\"max_depth\"],\n",
    "                max_features=best_drevo[\"max_features\"],\n",
    "                criterion=best_drevo[\"criterion\"])\n",
    "\n",
    "model_drevo.fit(x_train, y_train)\n",
    "y_predict_drevo = model_drevo.predict(x_test)\n",
    "acc_drevo = accuracy_score(y_test, y_predict_drevo)\n",
    "print('Klasifikacijska točnost najboljšega odločitvenaega drevesa na testni množici je:', acc_drevo)\n",
    "\n",
    "\n"
   ]
  },
  {
   "cell_type": "code",
   "execution_count": null,
   "id": "dutch-jaguar",
   "metadata": {},
   "outputs": [],
   "source": [
    "parametri =[\"max_depth\", \"max_features\", \"criterion\"]\n",
    "cols = len(parametri)\n",
    "f, axes = plt.subplots(nrows=1, ncols=cols, figsize=(20,5))\n",
    "\n",
    "for i,val in enumerate(parametri):\n",
    "    xss = [x[val] for x in xs_drevo]\n",
    "    axes[i].scatter(xss, ys_drevo, s=20, linewidth=0.01, alpha=0.8, color='C1')\n",
    "    axes[i].set_title(val)\n",
    "    "
   ]
  },
  {
   "cell_type": "code",
   "execution_count": null,
   "id": "corporate-leonard",
   "metadata": {},
   "outputs": [],
   "source": [
    "x_drevo = pd.Series(ys_drevo, name=\"Klasifikacijska točnost\")\n",
    "ax_drevo = sns.distplot(x_drevo, rug=True, bins=10, color='C1')\n"
   ]
  },
  {
   "cell_type": "code",
   "execution_count": null,
   "id": "wound-accountability",
   "metadata": {},
   "outputs": [],
   "source": [
    "prostor_knn = {\n",
    "            'ime': 'knn',\n",
    "            'n_neighbors': hp.choice('n_neighbors', range(1, 21)),\n",
    "            'weights': hp.choice('weights', ['uniform', 'distance'])\n",
    "        }\n",
    "\n",
    "def kriterijska_funkcija_knn(parametri):\n",
    "    n_neighbors = parametri[\"n_neighbors\"]\n",
    "    weights = parametri[\"weights\"]\n",
    "    model = KNeighborsClassifier(n_neighbors=n_neighbors, weights=weights)\n",
    "    \n",
    "    return 1-cross_val_score(model, x_train, y_train).mean()"
   ]
  },
  {
   "cell_type": "code",
   "execution_count": null,
   "id": "dominant-edwards",
   "metadata": {},
   "outputs": [],
   "source": [
    "%%time\n",
    "# Kriterijska funkcija je za vse algoritme enaka\n",
    "best_knn, xs_knn, ys_knn = poisci_najboljse_parametre(prostor_knn, kriterijska_funkcija_knn, 100)\n",
    "\n"
   ]
  },
  {
   "cell_type": "code",
   "execution_count": null,
   "id": "czech-convergence",
   "metadata": {},
   "outputs": [],
   "source": [
    "model_knn = KNeighborsClassifier(\n",
    "                n_neighbors=best_knn[\"n_neighbors\"],\n",
    "                weights=best_knn[\"weights\"])\n",
    "\n",
    "model_knn.fit(x_train, y_train)\n",
    "y_predict_knn = model_knn.predict(x_test)\n",
    "acc_knn = accuracy_score(y_test, y_predict_knn)\n",
    "print('Klasifikacijska točnost najboljšega kNN na testni množici je:', acc_knn)"
   ]
  },
  {
   "cell_type": "code",
   "execution_count": null,
   "id": "respiratory-order",
   "metadata": {},
   "outputs": [],
   "source": [
    "parametri_knn =[\"n_neighbors\", \"weights\"]\n",
    "cols = len(parametri_knn)\n",
    "f, axes = plt.subplots(nrows=1, ncols=cols, figsize=(20,5))\n",
    "\n",
    "for i,val in enumerate(parametri_knn):\n",
    "    xss = [x[val] for x in xs_knn]\n",
    "    axes[i].scatter(xss, ys_knn, s=20, linewidth=0.01, alpha=0.5, color='C2')\n",
    "    axes[i].set_title(val)"
   ]
  },
  {
   "cell_type": "code",
   "execution_count": null,
   "id": "afraid-success",
   "metadata": {},
   "outputs": [],
   "source": [
    "x_knn = pd.Series(ys_knn, name=\"Klasifikacijska točnost\")\n",
    "ax_knn = sns.distplot(x_knn, rug=True, bins=10, color='C2')"
   ]
  },
  {
   "cell_type": "code",
   "execution_count": null,
   "id": "spatial-young",
   "metadata": {},
   "outputs": [],
   "source": [
    "prostor_gozd = {\n",
    "    'n_estimators': hp.choice('n_estimators', range(1, 51)),\n",
    "    'max_depth': hp.choice('max_depth', range(1, 21)),\n",
    "    'criterion': hp.choice('criterion', [\"gini\", \"entropy\"]),    \n",
    "}\n",
    "\n",
    "def kriterijska_funkcija_gozd(parametri):\n",
    "    n_estimators = parametri[\"n_estimators\"]\n",
    "    max_depth = parametri[\"max_depth\"]\n",
    "    criterion = parametri[\"criterion\"]\n",
    "    model = RandomForestClassifier(n_estimators=n_estimators, max_depth=max_depth, criterion=criterion)\n",
    "    return 1-cross_val_score(model, x_train, y_train).mean() "
   ]
  },
  {
   "cell_type": "code",
   "execution_count": null,
   "id": "charming-observer",
   "metadata": {},
   "outputs": [],
   "source": [
    "best_gozd, xs_gozd, ys_gozd = poisci_najboljse_parametre(prostor_gozd, kriterijska_funkcija_gozd, 100)"
   ]
  },
  {
   "cell_type": "code",
   "execution_count": null,
   "id": "dominican-mileage",
   "metadata": {},
   "outputs": [],
   "source": [
    "model_gozd = RandomForestClassifier(\n",
    "                n_estimators = best_gozd[\"n_estimators\"],\n",
    "                max_depth = best_gozd[\"max_depth\"],\n",
    "                criterion = best_gozd[\"criterion\"])\n",
    "\n",
    "model_gozd.fit(x_train, y_train)\n",
    "y_predict_gozd = model_gozd.predict(x_test)\n",
    "acc_gozd = accuracy_score(y_test, y_predict_gozd)\n",
    "print('Klasifikacijska točnost najboljšega kNN na testni množici je:', acc_gozd)"
   ]
  },
  {
   "cell_type": "code",
   "execution_count": null,
   "id": "prerequisite-overall",
   "metadata": {},
   "outputs": [],
   "source": [
    "parametri_gozd =[\"n_estimators\", \"max_depth\", \"criterion\"]\n",
    "cols = len(parametri_gozd)\n",
    "f, axes = plt.subplots(nrows=1, ncols=cols, figsize=(20,5))\n",
    "\n",
    "\n",
    "for i,val in enumerate(parametri_gozd):\n",
    "    xss = [x[val] for x in xs_gozd]\n",
    "    axes[i].scatter(xss, ys_gozd, s=20, linewidth=0.01, alpha=0.8, color='C3')\n",
    "    axes[i].set_title(val)"
   ]
  },
  {
   "cell_type": "code",
   "execution_count": null,
   "id": "dominican-denial",
   "metadata": {},
   "outputs": [],
   "source": [
    "x_gozd = pd.Series(ys_gozd, name=\"klasifikacijska točnost\")\n",
    "ax_gozd = sns.distplot(x_gozd, rug=True, bins=10, color='C3')"
   ]
  },
  {
   "cell_type": "code",
   "execution_count": 1,
   "id": "signed-antibody",
   "metadata": {},
   "outputs": [
    {
     "ename": "NameError",
     "evalue": "name 'hp' is not defined",
     "output_type": "error",
     "traceback": [
      "\u001b[0;31m---------------------------------------------------------------------------\u001b[0m",
      "\u001b[0;31mNameError\u001b[0m                                 Traceback (most recent call last)",
      "\u001b[0;32m<ipython-input-1-b2a39c383f1a>\u001b[0m in \u001b[0;36m<module>\u001b[0;34m\u001b[0m\n\u001b[1;32m      1\u001b[0m prostor_svm = {\n\u001b[1;32m      2\u001b[0m     \u001b[0;34m'ime'\u001b[0m\u001b[0;34m:\u001b[0m \u001b[0;34m'svm'\u001b[0m\u001b[0;34m,\u001b[0m\u001b[0;34m\u001b[0m\u001b[0;34m\u001b[0m\u001b[0m\n\u001b[0;32m----> 3\u001b[0;31m     \u001b[0;34m'C'\u001b[0m\u001b[0;34m:\u001b[0m \u001b[0mhp\u001b[0m\u001b[0;34m.\u001b[0m\u001b[0mlognormal\u001b[0m\u001b[0;34m(\u001b[0m\u001b[0;34m'C'\u001b[0m\u001b[0;34m,\u001b[0m \u001b[0;36m0\u001b[0m\u001b[0;34m,\u001b[0m \u001b[0;36m1\u001b[0m\u001b[0;34m)\u001b[0m\u001b[0;34m,\u001b[0m\u001b[0;34m\u001b[0m\u001b[0;34m\u001b[0m\u001b[0m\n\u001b[0m\u001b[1;32m      4\u001b[0m     'kernel': hp.choice('kernel', [\n\u001b[1;32m      5\u001b[0m         {\n",
      "\u001b[0;31mNameError\u001b[0m: name 'hp' is not defined"
     ]
    }
   ],
   "source": [
    "prostor_svm = {\n",
    "    'ime': 'svm',\n",
    "    'C': hp.lognormal('C', 0, 1),\n",
    "    'kernel': hp.choice('kernel', [\n",
    "        {\n",
    "            'tip': 'linear'  # linearno\n",
    "        },\n",
    "        {\n",
    "            'tip': 'rbf',  # radialno\n",
    "            'gamma': hp.lognormal('gamma', 0, 1)\n",
    "        },\n",
    "        {\n",
    "            'tip': 'poly',  # polinomsko\n",
    "            'degree': hp.choice('degree', [1, 2, 3, 4, 5])\n",
    "        }\n",
    "    ]),\n",
    "}\n",
    "\n",
    "def kriterijska_funkcija_svm(parametri):\n",
    "    C = parametri[\"C\"]\n",
    "    kernel = parametri[\"kernel\"][\"tip\"]\n",
    "    # gamma in degree moramo definirati v vseh treh primerih: tam, kjer nista vazni, ju damo na 1\n",
    "    neumna_vrednost = 1\n",
    "    if kernel == \"rbf\":\n",
    "        gamma = parametri[\"kernel\"][\"gamma\"]\n",
    "        degree = neumna_vrednost\n",
    "    elif kernel == \"linear\":\n",
    "        degree = neumna_vrednost\n",
    "        gamma = neumna_vrednost\n",
    "    else:\n",
    "        gamma = neumna_vrednost\n",
    "        degree = parametri[\"kernel\"][\"degree\"]\n",
    "    model = SVC(kernel=kernel, gamma=gamma, C=C, degree=degree)\n",
    "        \n",
    "    return 1-cross_val_score(model, x_train, y_train).mean() "
   ]
  },
  {
   "cell_type": "code",
   "execution_count": null,
   "id": "grateful-stack",
   "metadata": {},
   "outputs": [],
   "source": [
    "best_svm, xs_svm, ys_svm = poisci_najboljse_parametre(prostor_svm, kriterijska_funkcija_svm, 100)"
   ]
  },
  {
   "cell_type": "code",
   "execution_count": null,
   "id": "jewish-guard",
   "metadata": {},
   "outputs": [],
   "source": [
    "\n",
    "neumna_vrednost = 1\n",
    "if best_svm[\"kernel\"][\"tip\"] == \"rbf\":\n",
    "    gamma = best_svm[\"kernel\"][\"gamma\"]\n",
    "    degree = neumna_vrednost\n",
    "elif best_svm[\"kernel\"][\"tip\"] == \"linear\":\n",
    "    degree = neumna_vrednost\n",
    "    gamma = neumna_vrednost\n",
    "else:\n",
    "    gamma = neumna_vrednost\n",
    "    degree = best_svm[\"kernel\"][\"degree\"]\n",
    "    \n",
    "model_svm = SVC(kernel=best_svm[\"kernel\"][\"tip\"], gamma=gamma, C=best_svm[\"C\"], degree=degree)\n",
    "\n",
    "\n",
    "model_svm.fit(x_train, y_train)\n",
    "y_predict_svm = model_svm.predict(x_test)\n",
    "acc_svm = accuracy_score(y_test, y_predict_svm)\n",
    "print('Klasifikacijska točnost najboljšega SVM na testni množici je:', acc_svm)"
   ]
  },
  {
   "cell_type": "code",
   "execution_count": null,
   "id": "trying-divide",
   "metadata": {},
   "outputs": [],
   "source": [
    "parametri_svm =[\"C\", \"kernel\"]\n",
    "cols = len(parametri_svm)\n",
    "f, axes = plt.subplots(nrows=1, ncols=cols, figsize=(20,5))\n",
    "\n",
    "\n",
    "for i,val in enumerate(parametri_svm):\n",
    "    xss = [x[val] for x in xs_svm]\n",
    "    axes[i].scatter(xss, ys_svm, s=20, linewidth=0.01, alpha=0.8, color='C4')\n",
    "    if val == \"kernel\":  \n",
    "        axes[i].set_title(val+\", (0=linear, 1=rbf, 2=degree)\")\n",
    "    else:\n",
    "        axes[i].set_title(val)"
   ]
  },
  {
   "cell_type": "code",
   "execution_count": null,
   "id": "ethical-cradle",
   "metadata": {},
   "outputs": [],
   "source": [
    "\n",
    "x_svm = pd.Series(ys_svm, name=\"klasifikacijska točnost\")\n",
    "ax_svm = sns.distplot(x_svm, rug=True, bins=10, color='C4')"
   ]
  },
  {
   "cell_type": "code",
   "execution_count": null,
   "id": "compressed-absolute",
   "metadata": {},
   "outputs": [],
   "source": []
  },
  {
   "cell_type": "code",
   "execution_count": null,
   "id": "jewish-folder",
   "metadata": {},
   "outputs": [],
   "source": []
  },
  {
   "cell_type": "code",
   "execution_count": null,
   "id": "saved-partner",
   "metadata": {},
   "outputs": [],
   "source": [
    "\n"
   ]
  },
  {
   "cell_type": "code",
   "execution_count": null,
   "id": "intermediate-train",
   "metadata": {},
   "outputs": [],
   "source": []
  }
 ],
 "metadata": {
  "kernelspec": {
   "display_name": "Python 3",
   "language": "python",
   "name": "python3"
  },
  "language_info": {
   "codemirror_mode": {
    "name": "ipython",
    "version": 3
   },
   "file_extension": ".py",
   "mimetype": "text/x-python",
   "name": "python",
   "nbconvert_exporter": "python",
   "pygments_lexer": "ipython3",
   "version": "3.8.8"
  }
 },
 "nbformat": 4,
 "nbformat_minor": 5
}
