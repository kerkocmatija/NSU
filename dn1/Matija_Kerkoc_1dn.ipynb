{
 "cells": [
  {
   "cell_type": "markdown",
   "id": "excessive-notice",
   "metadata": {},
   "source": [
    "# 1. Domača naloga: AutoML\n",
    "\n",
    "V prvi domači nalogi se bomo ukvarjali z AutoML oziroma natančneje z uporabo knjižnjice Hyperopt, ki nam omogoča avtomatsko izbiranje najboljše konfiguracije izbranih algoritmov za klasifikacijo. Natančnejši opis vseh metod in odločitev je v priloženi pdf datoteki."
   ]
  },
  {
   "cell_type": "markdown",
   "id": "upset-arkansas",
   "metadata": {},
   "source": [
    "# 1. UVOD"
   ]
  },
  {
   "cell_type": "code",
   "execution_count": 1,
   "id": "indonesian-webster",
   "metadata": {},
   "outputs": [],
   "source": [
    "# imports\n",
    "import pandas as pd\n",
    "import numpy as np\n",
    "import seaborn as sns\n",
    "import matplotlib.pyplot as plt\n",
    "import random \n",
    "\n",
    "from sklearn.ensemble import BaggingClassifier, RandomForestClassifier\n",
    "from sklearn.linear_model import LinearRegression\n",
    "from sklearn.svm import SVR, SVC\n",
    "from hyperopt import hp, tpe, rand, fmin, Trials, space_eval\n",
    "from hyperopt import pyll, base\n",
    "\n",
    "from sklearn.neighbors import KNeighborsClassifier\n",
    "from sklearn.tree import DecisionTreeClassifier\n",
    "from sklearn.linear_model import LogisticRegression\n",
    "from sklearn.model_selection import train_test_split, cross_val_score, cross_val_predict, cross_validate\n",
    "from sklearn.metrics import accuracy_score, mean_squared_error\n",
    "from sklearn.preprocessing import scale, normalize, MinMaxScaler\n",
    "from sklearn.decomposition import PCA\n",
    "\n",
    "# POZOR! Opozorila skrijemo izključno zaradi opozoril pri sns.distplot.\n",
    "import warnings\n",
    "warnings.filterwarnings('ignore')"
   ]
  },
  {
   "cell_type": "code",
   "execution_count": 2,
   "id": "previous-graph",
   "metadata": {},
   "outputs": [],
   "source": [
    "dataset = pd.read_csv('podatki.csv', sep=',')\n",
    "x, y = dataset.iloc[:, :-1], dataset.iloc[:, -1]"
   ]
  },
  {
   "cell_type": "markdown",
   "id": "unable-burke",
   "metadata": {},
   "source": [
    "Poglejmo si najprej s kakšnimi podatki operiramo."
   ]
  },
  {
   "cell_type": "code",
   "execution_count": 3,
   "id": "improved-costume",
   "metadata": {},
   "outputs": [
    {
     "data": {
      "text/html": [
       "<div>\n",
       "<style scoped>\n",
       "    .dataframe tbody tr th:only-of-type {\n",
       "        vertical-align: middle;\n",
       "    }\n",
       "\n",
       "    .dataframe tbody tr th {\n",
       "        vertical-align: top;\n",
       "    }\n",
       "\n",
       "    .dataframe thead th {\n",
       "        text-align: right;\n",
       "    }\n",
       "</style>\n",
       "<table border=\"1\" class=\"dataframe\">\n",
       "  <thead>\n",
       "    <tr style=\"text-align: right;\">\n",
       "      <th></th>\n",
       "      <th>x1</th>\n",
       "      <th>x2</th>\n",
       "      <th>x3</th>\n",
       "      <th>x4</th>\n",
       "      <th>x5</th>\n",
       "      <th>x6</th>\n",
       "      <th>x7</th>\n",
       "      <th>x8</th>\n",
       "      <th>x9</th>\n",
       "      <th>x10</th>\n",
       "      <th>...</th>\n",
       "      <th>x22</th>\n",
       "      <th>x23</th>\n",
       "      <th>x24</th>\n",
       "      <th>x25</th>\n",
       "      <th>x26</th>\n",
       "      <th>x27</th>\n",
       "      <th>x28</th>\n",
       "      <th>x29</th>\n",
       "      <th>x30</th>\n",
       "      <th>y</th>\n",
       "    </tr>\n",
       "  </thead>\n",
       "  <tbody>\n",
       "    <tr>\n",
       "      <th>0</th>\n",
       "      <td>2.0</td>\n",
       "      <td>2.12</td>\n",
       "      <td>3.0</td>\n",
       "      <td>11.0</td>\n",
       "      <td>7.56</td>\n",
       "      <td>54.81</td>\n",
       "      <td>14.0</td>\n",
       "      <td>69.0</td>\n",
       "      <td>10.0</td>\n",
       "      <td>11.13</td>\n",
       "      <td>...</td>\n",
       "      <td>96.0</td>\n",
       "      <td>4404.26</td>\n",
       "      <td>484.15</td>\n",
       "      <td>246.57</td>\n",
       "      <td>2.50</td>\n",
       "      <td>4.0</td>\n",
       "      <td>4.0</td>\n",
       "      <td>4.0</td>\n",
       "      <td>4.0</td>\n",
       "      <td>teamEdward</td>\n",
       "    </tr>\n",
       "    <tr>\n",
       "      <th>1</th>\n",
       "      <td>2.0</td>\n",
       "      <td>2.50</td>\n",
       "      <td>2.0</td>\n",
       "      <td>3.0</td>\n",
       "      <td>2.00</td>\n",
       "      <td>20.13</td>\n",
       "      <td>12.0</td>\n",
       "      <td>15.0</td>\n",
       "      <td>13.0</td>\n",
       "      <td>9.50</td>\n",
       "      <td>...</td>\n",
       "      <td>36.0</td>\n",
       "      <td>1022.00</td>\n",
       "      <td>138.00</td>\n",
       "      <td>58.67</td>\n",
       "      <td>2.33</td>\n",
       "      <td>2.0</td>\n",
       "      <td>2.0</td>\n",
       "      <td>2.0</td>\n",
       "      <td>4.0</td>\n",
       "      <td>teamEdward</td>\n",
       "    </tr>\n",
       "    <tr>\n",
       "      <th>2</th>\n",
       "      <td>5.0</td>\n",
       "      <td>2.32</td>\n",
       "      <td>6.0</td>\n",
       "      <td>11.0</td>\n",
       "      <td>22.00</td>\n",
       "      <td>25.15</td>\n",
       "      <td>20.0</td>\n",
       "      <td>52.0</td>\n",
       "      <td>40.0</td>\n",
       "      <td>31.25</td>\n",
       "      <td>...</td>\n",
       "      <td>140.0</td>\n",
       "      <td>19808.66</td>\n",
       "      <td>679.15</td>\n",
       "      <td>1102.37</td>\n",
       "      <td>2.10</td>\n",
       "      <td>2.0</td>\n",
       "      <td>2.0</td>\n",
       "      <td>2.0</td>\n",
       "      <td>9.0</td>\n",
       "      <td>teamEdward</td>\n",
       "    </tr>\n",
       "    <tr>\n",
       "      <th>3</th>\n",
       "      <td>2.0</td>\n",
       "      <td>2.17</td>\n",
       "      <td>56.0</td>\n",
       "      <td>14.0</td>\n",
       "      <td>83.82</td>\n",
       "      <td>31.79</td>\n",
       "      <td>13.0</td>\n",
       "      <td>141.0</td>\n",
       "      <td>13.0</td>\n",
       "      <td>10.94</td>\n",
       "      <td>...</td>\n",
       "      <td>58.0</td>\n",
       "      <td>2381.82</td>\n",
       "      <td>268.27</td>\n",
       "      <td>134.21</td>\n",
       "      <td>2.50</td>\n",
       "      <td>2.0</td>\n",
       "      <td>2.0</td>\n",
       "      <td>2.0</td>\n",
       "      <td>3.0</td>\n",
       "      <td>teamEdward</td>\n",
       "    </tr>\n",
       "    <tr>\n",
       "      <th>4</th>\n",
       "      <td>2.0</td>\n",
       "      <td>2.36</td>\n",
       "      <td>2.0</td>\n",
       "      <td>3.0</td>\n",
       "      <td>2.00</td>\n",
       "      <td>26.22</td>\n",
       "      <td>18.0</td>\n",
       "      <td>15.0</td>\n",
       "      <td>16.0</td>\n",
       "      <td>14.71</td>\n",
       "      <td>...</td>\n",
       "      <td>63.0</td>\n",
       "      <td>3911.70</td>\n",
       "      <td>309.71</td>\n",
       "      <td>219.21</td>\n",
       "      <td>2.75</td>\n",
       "      <td>2.0</td>\n",
       "      <td>2.0</td>\n",
       "      <td>2.0</td>\n",
       "      <td>4.0</td>\n",
       "      <td>teamEdward</td>\n",
       "    </tr>\n",
       "    <tr>\n",
       "      <th>...</th>\n",
       "      <td>...</td>\n",
       "      <td>...</td>\n",
       "      <td>...</td>\n",
       "      <td>...</td>\n",
       "      <td>...</td>\n",
       "      <td>...</td>\n",
       "      <td>...</td>\n",
       "      <td>...</td>\n",
       "      <td>...</td>\n",
       "      <td>...</td>\n",
       "      <td>...</td>\n",
       "      <td>...</td>\n",
       "      <td>...</td>\n",
       "      <td>...</td>\n",
       "      <td>...</td>\n",
       "      <td>...</td>\n",
       "      <td>...</td>\n",
       "      <td>...</td>\n",
       "      <td>...</td>\n",
       "      <td>...</td>\n",
       "      <td>...</td>\n",
       "    </tr>\n",
       "    <tr>\n",
       "      <th>1198</th>\n",
       "      <td>13.0</td>\n",
       "      <td>2.14</td>\n",
       "      <td>19.0</td>\n",
       "      <td>33.0</td>\n",
       "      <td>29.45</td>\n",
       "      <td>73.39</td>\n",
       "      <td>20.0</td>\n",
       "      <td>137.0</td>\n",
       "      <td>63.0</td>\n",
       "      <td>26.46</td>\n",
       "      <td>...</td>\n",
       "      <td>293.0</td>\n",
       "      <td>42703.09</td>\n",
       "      <td>1748.00</td>\n",
       "      <td>2374.28</td>\n",
       "      <td>2.33</td>\n",
       "      <td>23.0</td>\n",
       "      <td>4.0</td>\n",
       "      <td>22.0</td>\n",
       "      <td>12.0</td>\n",
       "      <td>teamJacob</td>\n",
       "    </tr>\n",
       "    <tr>\n",
       "      <th>1199</th>\n",
       "      <td>6.0</td>\n",
       "      <td>2.27</td>\n",
       "      <td>2.0</td>\n",
       "      <td>5.0</td>\n",
       "      <td>38.36</td>\n",
       "      <td>22.85</td>\n",
       "      <td>11.0</td>\n",
       "      <td>18.0</td>\n",
       "      <td>11.0</td>\n",
       "      <td>7.00</td>\n",
       "      <td>...</td>\n",
       "      <td>27.0</td>\n",
       "      <td>523.24</td>\n",
       "      <td>106.25</td>\n",
       "      <td>30.96</td>\n",
       "      <td>2.33</td>\n",
       "      <td>6.0</td>\n",
       "      <td>4.0</td>\n",
       "      <td>6.0</td>\n",
       "      <td>4.0</td>\n",
       "      <td>teamJacob</td>\n",
       "    </tr>\n",
       "    <tr>\n",
       "      <th>1200</th>\n",
       "      <td>6.0</td>\n",
       "      <td>2.22</td>\n",
       "      <td>13.0</td>\n",
       "      <td>24.0</td>\n",
       "      <td>33.91</td>\n",
       "      <td>45.42</td>\n",
       "      <td>18.0</td>\n",
       "      <td>73.0</td>\n",
       "      <td>37.0</td>\n",
       "      <td>16.61</td>\n",
       "      <td>...</td>\n",
       "      <td>122.0</td>\n",
       "      <td>9267.54</td>\n",
       "      <td>636.25</td>\n",
       "      <td>516.75</td>\n",
       "      <td>2.13</td>\n",
       "      <td>15.0</td>\n",
       "      <td>4.0</td>\n",
       "      <td>14.0</td>\n",
       "      <td>7.0</td>\n",
       "      <td>teamJacob</td>\n",
       "    </tr>\n",
       "    <tr>\n",
       "      <th>1201</th>\n",
       "      <td>3.0</td>\n",
       "      <td>2.13</td>\n",
       "      <td>5.0</td>\n",
       "      <td>9.0</td>\n",
       "      <td>17.38</td>\n",
       "      <td>24.30</td>\n",
       "      <td>14.0</td>\n",
       "      <td>39.0</td>\n",
       "      <td>14.0</td>\n",
       "      <td>15.80</td>\n",
       "      <td>...</td>\n",
       "      <td>71.0</td>\n",
       "      <td>4248.27</td>\n",
       "      <td>309.70</td>\n",
       "      <td>237.90</td>\n",
       "      <td>2.33</td>\n",
       "      <td>6.0</td>\n",
       "      <td>4.0</td>\n",
       "      <td>6.0</td>\n",
       "      <td>5.0</td>\n",
       "      <td>teamJacob</td>\n",
       "    </tr>\n",
       "    <tr>\n",
       "      <th>1202</th>\n",
       "      <td>14.0</td>\n",
       "      <td>2.10</td>\n",
       "      <td>14.0</td>\n",
       "      <td>18.0</td>\n",
       "      <td>74.73</td>\n",
       "      <td>59.37</td>\n",
       "      <td>14.0</td>\n",
       "      <td>53.0</td>\n",
       "      <td>21.0</td>\n",
       "      <td>8.72</td>\n",
       "      <td>...</td>\n",
       "      <td>76.0</td>\n",
       "      <td>2592.56</td>\n",
       "      <td>387.50</td>\n",
       "      <td>145.92</td>\n",
       "      <td>2.50</td>\n",
       "      <td>4.0</td>\n",
       "      <td>4.0</td>\n",
       "      <td>4.0</td>\n",
       "      <td>4.0</td>\n",
       "      <td>teamJacob</td>\n",
       "    </tr>\n",
       "  </tbody>\n",
       "</table>\n",
       "<p>1203 rows × 31 columns</p>\n",
       "</div>"
      ],
      "text/plain": [
       "        x1    x2    x3    x4     x5     x6    x7     x8    x9    x10  ...  \\\n",
       "0      2.0  2.12   3.0  11.0   7.56  54.81  14.0   69.0  10.0  11.13  ...   \n",
       "1      2.0  2.50   2.0   3.0   2.00  20.13  12.0   15.0  13.0   9.50  ...   \n",
       "2      5.0  2.32   6.0  11.0  22.00  25.15  20.0   52.0  40.0  31.25  ...   \n",
       "3      2.0  2.17  56.0  14.0  83.82  31.79  13.0  141.0  13.0  10.94  ...   \n",
       "4      2.0  2.36   2.0   3.0   2.00  26.22  18.0   15.0  16.0  14.71  ...   \n",
       "...    ...   ...   ...   ...    ...    ...   ...    ...   ...    ...  ...   \n",
       "1198  13.0  2.14  19.0  33.0  29.45  73.39  20.0  137.0  63.0  26.46  ...   \n",
       "1199   6.0  2.27   2.0   5.0  38.36  22.85  11.0   18.0  11.0   7.00  ...   \n",
       "1200   6.0  2.22  13.0  24.0  33.91  45.42  18.0   73.0  37.0  16.61  ...   \n",
       "1201   3.0  2.13   5.0   9.0  17.38  24.30  14.0   39.0  14.0  15.80  ...   \n",
       "1202  14.0  2.10  14.0  18.0  74.73  59.37  14.0   53.0  21.0   8.72  ...   \n",
       "\n",
       "        x22       x23      x24      x25   x26   x27  x28   x29   x30  \\\n",
       "0      96.0   4404.26   484.15   246.57  2.50   4.0  4.0   4.0   4.0   \n",
       "1      36.0   1022.00   138.00    58.67  2.33   2.0  2.0   2.0   4.0   \n",
       "2     140.0  19808.66   679.15  1102.37  2.10   2.0  2.0   2.0   9.0   \n",
       "3      58.0   2381.82   268.27   134.21  2.50   2.0  2.0   2.0   3.0   \n",
       "4      63.0   3911.70   309.71   219.21  2.75   2.0  2.0   2.0   4.0   \n",
       "...     ...       ...      ...      ...   ...   ...  ...   ...   ...   \n",
       "1198  293.0  42703.09  1748.00  2374.28  2.33  23.0  4.0  22.0  12.0   \n",
       "1199   27.0    523.24   106.25    30.96  2.33   6.0  4.0   6.0   4.0   \n",
       "1200  122.0   9267.54   636.25   516.75  2.13  15.0  4.0  14.0   7.0   \n",
       "1201   71.0   4248.27   309.70   237.90  2.33   6.0  4.0   6.0   5.0   \n",
       "1202   76.0   2592.56   387.50   145.92  2.50   4.0  4.0   4.0   4.0   \n",
       "\n",
       "               y  \n",
       "0     teamEdward  \n",
       "1     teamEdward  \n",
       "2     teamEdward  \n",
       "3     teamEdward  \n",
       "4     teamEdward  \n",
       "...          ...  \n",
       "1198   teamJacob  \n",
       "1199   teamJacob  \n",
       "1200   teamJacob  \n",
       "1201   teamJacob  \n",
       "1202   teamJacob  \n",
       "\n",
       "[1203 rows x 31 columns]"
      ]
     },
     "execution_count": 3,
     "metadata": {},
     "output_type": "execute_result"
    }
   ],
   "source": [
    "dataset"
   ]
  },
  {
   "cell_type": "code",
   "execution_count": 4,
   "id": "fixed-remove",
   "metadata": {},
   "outputs": [
    {
     "name": "stdout",
     "output_type": "stream",
     "text": [
      "<class 'pandas.core.frame.DataFrame'>\n",
      "RangeIndex: 1203 entries, 0 to 1202\n",
      "Data columns (total 31 columns):\n",
      " #   Column  Non-Null Count  Dtype  \n",
      "---  ------  --------------  -----  \n",
      " 0   x1      1203 non-null   float64\n",
      " 1   x2      1203 non-null   float64\n",
      " 2   x3      1203 non-null   float64\n",
      " 3   x4      1203 non-null   float64\n",
      " 4   x5      1203 non-null   float64\n",
      " 5   x6      1203 non-null   float64\n",
      " 6   x7      1203 non-null   float64\n",
      " 7   x8      1203 non-null   float64\n",
      " 8   x9      1203 non-null   float64\n",
      " 9   x10     1203 non-null   float64\n",
      " 10  x11     1203 non-null   float64\n",
      " 11  x12     1203 non-null   float64\n",
      " 12  x13     1203 non-null   float64\n",
      " 13  x14     1203 non-null   float64\n",
      " 14  x15     1203 non-null   float64\n",
      " 15  x16     1203 non-null   float64\n",
      " 16  x17     1203 non-null   float64\n",
      " 17  x18     1203 non-null   float64\n",
      " 18  x19     1203 non-null   float64\n",
      " 19  x20     1203 non-null   float64\n",
      " 20  x21     1203 non-null   float64\n",
      " 21  x22     1203 non-null   float64\n",
      " 22  x23     1203 non-null   float64\n",
      " 23  x24     1203 non-null   float64\n",
      " 24  x25     1203 non-null   float64\n",
      " 25  x26     1203 non-null   float64\n",
      " 26  x27     1203 non-null   float64\n",
      " 27  x28     1203 non-null   float64\n",
      " 28  x29     1203 non-null   float64\n",
      " 29  x30     1203 non-null   float64\n",
      " 30  y       1203 non-null   object \n",
      "dtypes: float64(30), object(1)\n",
      "memory usage: 291.5+ KB\n"
     ]
    }
   ],
   "source": [
    "dataset.info()"
   ]
  },
  {
   "cell_type": "markdown",
   "id": "prerequisite-earthquake",
   "metadata": {},
   "source": [
    "### (A) Prvi problem\n",
    "\n",
    "Uporabiti moramoo torej stratificirano vzorčenje (\"po obliki y\"), saj sta ciljni spremenljivki neuravnoteženi (\"teamEdward\": 1025 in \"teamJacob\": 178).\n",
    "\n",
    "Če si pogledamo ciljno spremenljivko, vidimo v čem je problem."
   ]
  },
  {
   "cell_type": "code",
   "execution_count": 5,
   "id": "roman-angola",
   "metadata": {},
   "outputs": [
    {
     "name": "stdout",
     "output_type": "stream",
     "text": [
      "teamEdward: 1025 \n",
      "teamJacob: 178\n"
     ]
    }
   ],
   "source": [
    "edward = len([i for i in dataset[\"y\"] if i == \"teamEdward\"])\n",
    "jacob = len([i for i in dataset[\"y\"] if i == \"teamJacob\"])\n",
    "print(\"teamEdward:\", edward, \"\\nteamJacob:\", jacob)"
   ]
  },
  {
   "cell_type": "markdown",
   "id": "mechanical-webcam",
   "metadata": {},
   "source": [
    "### (B) Drugi problem\n",
    "\n",
    "Opazimo lahko, da podatki niso skalirani. To je velik problem predvsem za klasifikacijo s podpornimi vektorji (SVM), saj ta deluje izredno počasi na neskaliranih podatkih. Katero skaliranje bomo uporabili? Na voljo imamo\n",
    "- standardno skaliranje,\n",
    "- normalizacijo,\n",
    "- skaliranje minmax.\n",
    "\n",
    "Pomembno je, katero klasifikacijo izberemo, saj so podatki pri večini značilk zamaknjeni v levo (\"positive skewness\" oz. \"right skewness\"). Podatki pri nekaterih značilkah imajo sicer drugačno obliko, vendar kar je pomembno je to, da ne moremo uporabiti predpostavke o normalnosti podatkov! \n",
    "\n",
    "Več o tem in o izbiri metode skaliranja bomo razložili v priloženi razpravi. "
   ]
  },
  {
   "cell_type": "code",
   "execution_count": 6,
   "id": "about-background",
   "metadata": {},
   "outputs": [
    {
     "data": {
      "image/png": "[encoded data removed]",
      "text/plain": [
       "<Figure size 432x288 with 1 Axes>"
      ]
     },
     "metadata": {},
     "output_type": "display_data"
    },
    {
     "data": {
      "image/png": "[encoded data removed]",
      "text/plain": [
       "<Figure size 360x360 with 1 Axes>"
      ]
     },
     "metadata": {},
     "output_type": "display_data"
    }
   ],
   "source": [
    "nakljucna = random.choice(range(1,31))\n",
    "znacilka = \"x\"+str(nakljucna)\n",
    "sns.set_theme(style=\"whitegrid\", palette=\"Set1\")\n",
    "ax1 = sns.boxplot(x=dataset[znacilka])\n",
    "ax2 = sns.displot(dataset, x=znacilka, kind=\"kde\", fill=True)"
   ]
  },
  {
   "cell_type": "markdown",
   "id": "broadband-jesus",
   "metadata": {},
   "source": [
    "## 1.2 Predprocesiranje podatkov\n",
    "\n",
    "Kot smo opazili v prvem delu naloge imamo problem s klasifikatorjem SVC (metoda podpornih vektorjev). Nampreč, klasifikator je izredno počasen. Razloga za to sta dva: veliko število značilk ali neskalirani podatki.\n",
    "\n",
    "Ker značilk ni veliko (uporabimo lahko tudi kakšno metodo za zmanjševanje dimenzije in bomo videli, da to ni problem), se problem skriva v tem, da podatkov nismo normalizirali preden smo začeli delati z njimi. Poglejmo si torej še enkrat vse skupaj, le da tokrat vključimo med naše algoritme tudi SVC.\n",
    "\n",
    "Torej bo naša delitev in standarizavija podatkov potekala takole."
   ]
  },
  {
   "cell_type": "code",
   "execution_count": 7,
   "id": "choice-cooling",
   "metadata": {},
   "outputs": [],
   "source": [
    "x_norm = (x - x.mean()) / (x.max() - x.min())\n",
    "x_train, x_test, y_train, y_test = train_test_split(x_norm, y, test_size=0.25, random_state=123, stratify=y)"
   ]
  },
  {
   "cell_type": "markdown",
   "id": "increasing-adrian",
   "metadata": {},
   "source": [
    "# 2. ISKANJE NAJBOLJŠEGA ALGORITMA (VREČENJE vs. VSI OSTALI)\n",
    "\n",
    "## 2.1 Izbor najboljšega algoritma\n",
    "\n",
    "Prava moč paketa Hyperopt se pokaže šele, ko za vse algoritme preiskujemo prostor možnih konfiguracij simultano.\n",
    "\n",
    "Iskali bomo najboljši algoritem med \n",
    "- k najbližjimi sosedi,\n",
    "- Naključni gozd,\n",
    "- Metodo podpornih vektorjev,\n",
    "- Logistično regresijo.\n",
    "\n",
    "Poglejmo si sedaj, kateri izmed teh algoritmov se odreže najbolje na naših podatkih."
   ]
  },
  {
   "cell_type": "code",
   "execution_count": 8,
   "id": "legendary-singer",
   "metadata": {},
   "outputs": [],
   "source": [
    "# konstruiramo gnezdeni prostor vseh algoritmov in njihovih parametrov\n",
    "gnezdeni_prostor = {\n",
    "    \"algo\": hp.choice('algo', [\n",
    "        {\n",
    "            'ime': 'knn',\n",
    "            'n_neighbors': hp.choice('n_neighbors', range(1, 21)),\n",
    "            'weights': hp.choice('weights', ['uniform', 'distance'])\n",
    "        },\n",
    "        {\n",
    "            'ime': 'gozd',\n",
    "            'n_estimators': hp.choice('n_estimators', range(1, 51)),\n",
    "            'max_depth': hp.choice('max_depth', range(1, 21)),\n",
    "            'criterion': hp.choice('criterion', [\"gini\", \"entropy\"]),\n",
    "        },\n",
    "        {\n",
    "            'ime': 'svm',\n",
    "            'C': hp.lognormal('C', 0, 1),\n",
    "            'kernel': hp.choice('kernel', [\n",
    "                {\n",
    "                    'tip': 'linear'  # linearno\n",
    "                },\n",
    "                {\n",
    "                    'tip': 'rbf',  # radialno\n",
    "                    'gamma': hp.lognormal('gamma', 0, 1)\n",
    "                },\n",
    "                {\n",
    "                    'tip': 'poly',  # polinomsko\n",
    "                    'degree': hp.choice('degree', [1, 2, 3, 4, 5])\n",
    "                }\n",
    "            ]),\n",
    "        },\n",
    "        {\n",
    "            'ime': 'logreg',\n",
    "            'solver': hp.choice('solver', [\"newton-cg\", \"lbfgs\", \"liblinear\", \"sag\", \"saga\"]),\n",
    "            'C1': hp.lognormal('C1', 0, 1),  # poimenovati ga moramo drugače kot C v primeru svm!\n",
    "            'max_iter': hp.choice('max_iter', [50, 100, 150])\n",
    "        },\n",
    "    ])\n",
    "}"
   ]
  },
  {
   "cell_type": "code",
   "execution_count": 9,
   "id": "fifth-distributor",
   "metadata": {},
   "outputs": [],
   "source": [
    "def kriterijska_funkcija_skupna(parametri):\n",
    "    a = parametri[\"algo\"]\n",
    "    ime_algoritma = a[\"ime\"]\n",
    "    \n",
    "    if ime_algoritma == \"knn\":\n",
    "        n_neighbors = a[\"n_neighbors\"]\n",
    "        weights = a[\"weights\"]\n",
    "        model = KNeighborsClassifier(n_neighbors=n_neighbors, weights=weights)\n",
    "        \n",
    "    elif ime_algoritma == \"gozd\":\n",
    "        n_estimators = a[\"n_estimators\"]\n",
    "        max_depth = a[\"max_depth\"]\n",
    "        criterion = a[\"criterion\"]\n",
    "        model = RandomForestClassifier(n_estimators=n_estimators, max_depth=max_depth, criterion=criterion)\n",
    "        \n",
    "    elif ime_algoritma == \"svm\":\n",
    "        C = a[\"C\"]\n",
    "        kernel = a[\"kernel\"][\"tip\"]\n",
    "        # gamma in degree moramo definirati v vseh treh primerih: tam, kjer nista vazni, ju damo na 1\n",
    "        neumna_vrednost = 1\n",
    "        if kernel == \"rbf\":\n",
    "            gamma = a[\"kernel\"][\"gamma\"]\n",
    "            degree = neumna_vrednost\n",
    "        elif kernel == \"linear\":\n",
    "            degree = neumna_vrednost\n",
    "            gamma = neumna_vrednost\n",
    "        else:\n",
    "            gamma = neumna_vrednost\n",
    "            degree = a[\"kernel\"][\"degree\"]\n",
    "        model = SVC(kernel=kernel, gamma=gamma, C=C, degree=degree)\n",
    "        \n",
    "    elif ime_algoritma == \"logreg\":\n",
    "        solver = a[\"solver\"]\n",
    "        max_iter = a[\"max_iter\"]\n",
    "        C1 = a[\"C1\"]  # poimenovati ga moramo drugače kot C v primeru svm!\n",
    "        model = LogisticRegression(solver=solver, max_iter=max_iter, C=C1)\n",
    "\n",
    "    else:\n",
    "        raise ValueError(\"Napacne nastavitve!\")\n",
    "    \n",
    "    # kot mero natančnosti uporabljamo prečno preverjanje\n",
    "    # minimizirali bomo torej napako 1 - acc\n",
    "    return 1 - cross_val_score(model, x_train, y_train).mean()"
   ]
  },
  {
   "cell_type": "code",
   "execution_count": 10,
   "id": "classical-prerequisite",
   "metadata": {},
   "outputs": [],
   "source": [
    "def poisci_najboljse_parametre2(prostor, n_izracunov):\n",
    "    trials = Trials()\n",
    "    best = fmin(fn=kriterijska_funkcija_skupna,\n",
    "                space=prostor,\n",
    "                algo=tpe.suggest,\n",
    "                max_evals=n_izracunov,\n",
    "                trials=trials)\n",
    "    best = space_eval(prostor, best)\n",
    "    best_value = kriterijska_funkcija_skupna(best)\n",
    "    # vse vrednosti paramtrov in kriterijske funkcije, ki smo jih preizkusili\n",
    "    xs = [trial[\"misc\"][\"vals\"] for trial in trials.trials]\n",
    "    ys = [1-trial[\"result\"][\"loss\"] for trial in trials.trials]\n",
    "\n",
    "    print(best, 1-best_value)\n",
    "    return best, xs, ys"
   ]
  },
  {
   "cell_type": "markdown",
   "id": "effective-disability",
   "metadata": {},
   "source": [
    "Tokrat bomo naredili 300 izborov konfiguracij. Na vajah smo sicer delali s 100 ponovitvami, vendar imamo tukaj nekoliko večje prostore. \n",
    "Tudi 1000 še deluje dokaj hitro (cca. 3-5min za vsako izmed iskanj), vendar pa ne pridobimo bistveno na natančnosti klasifikacije. Natančnost se vedno giblje nekje v območju 80%-90%."
   ]
  },
  {
   "cell_type": "code",
   "execution_count": 11,
   "id": "antique-calvin",
   "metadata": {},
   "outputs": [
    {
     "name": "stdout",
     "output_type": "stream",
     "text": [
      "100%|██████████| 300/300 [01:00<00:00,  4.93trial/s, best loss: 0.10861878453038687]\n",
      "{'algo': {'criterion': 'gini', 'ime': 'gozd', 'max_depth': 11, 'n_estimators': 36}} 0.8847022713321057\n"
     ]
    }
   ],
   "source": [
    "best111, xs_best, ys_best = poisci_najboljse_parametre2(gnezdeni_prostor, 300)"
   ]
  },
  {
   "cell_type": "code",
   "execution_count": 12,
   "id": "available-davis",
   "metadata": {},
   "outputs": [],
   "source": [
    "# med vsemi konfiguracijami poiščemo najboljšo\n",
    "algo = best111[\"algo\"]\n",
    "ime = algo[\"ime\"]\n",
    "\n",
    "if ime == \"knn\":\n",
    "    model_best = KNeighborsClassifier(n_neighbors=algo[\"n_neighbors\"], weights=algo[\"weights\"])\n",
    "    \n",
    "elif ime == \"gozd\":\n",
    "    model_best = RandomForestClassifier(n_estimators=algo[\"n_estimators\"],\n",
    "                max_depth=algo[\"max_depth\"], criterion=algo[\"criterion\"])\n",
    "    \n",
    "elif ime == \"svm\":\n",
    "    if algo[\"kernel\"][\"tip\"] == \"rbf\":\n",
    "        gamma = best[\"kernel\"][\"gamma\"]\n",
    "        degree = neumna_vrednost\n",
    "    elif algo[\"kernel\"][\"tip\"] == \"linear\":\n",
    "        degree = neumna_vrednost\n",
    "        gamma = neumna_vrednost\n",
    "    else:\n",
    "        gamma = neumna_vrednost\n",
    "        degree = best[\"kernel\"][\"degree\"]\n",
    "\n",
    "    model_best = SVC(kernel=algo[\"kernel\"][\"tip\"], gamma=gamma, C=algo[\"C\"], degree=degree)\n",
    "    \n",
    "elif ime == \"logreg\":\n",
    "    model_best = LogisticRegression(solver=algo[\"solver\"], max_iter=algo[\"max_iter\"], C=algo[\"C1\"])\n",
    "    \n",
    "    \n",
    "# zgradimo najboljši model ter ga naučimo na učni množici\n",
    "model_best.fit(x_train, y_train)\n",
    "y_predict_best = model_best.predict(x_test)"
   ]
  },
  {
   "cell_type": "code",
   "execution_count": 13,
   "id": "ceramic-occasion",
   "metadata": {},
   "outputs": [
    {
     "name": "stdout",
     "output_type": "stream",
     "text": [
      "Najboljši model je gozd klasifikacijska točnost pa: 0.9003322259136213\n"
     ]
    }
   ],
   "source": [
    "# evalviramo model na testni množici\n",
    "acc_best = accuracy_score(y_test, y_predict_best)\n",
    "print('Najboljši model je', ime, 'klasifikacijska točnost pa:', acc_best)"
   ]
  },
  {
   "cell_type": "markdown",
   "id": "professional-fault",
   "metadata": {},
   "source": [
    "Poglejmo še grafe porazdelitev za vsak posamezen algoritem."
   ]
  },
  {
   "cell_type": "code",
   "execution_count": 14,
   "id": "fuzzy-experience",
   "metadata": {},
   "outputs": [],
   "source": [
    "# iz xs_best poberemo posamezne konfiguracije\n",
    "xs_best_knn = [i for i in xs_best if i[\"algo\"]==[0]]\n",
    "xs_best_gozd = [i for i in xs_best if i[\"algo\"]==[1]]\n",
    "xs_best_svm = [i for i in xs_best if i[\"algo\"]==[2]]\n",
    "xs_best_logreg = [i for i in xs_best if i[\"algo\"]==[3]]\n",
    "\n",
    "# poberemo indekse različnih algoritmov\n",
    "xs_best_knn_idx = [i for i in range(len(xs_best)) if xs_best[i][\"algo\"]==[0]]\n",
    "xs_best_gozd_idx = [i for i in range(len(xs_best)) if xs_best[i][\"algo\"]==[1]]\n",
    "xs_best_svm_idx = [i for i in range(len(xs_best)) if xs_best[i][\"algo\"]==[2]]\n",
    "xs_best_logreg_idx = [i for i in range(len(xs_best)) if xs_best[i][\"algo\"]==[3]]\n",
    "\n",
    "x_knn2 = pd.Series([ys_best[i] for i in xs_best_knn_idx], name=\"klasifikacijska točnost\")\n",
    "x_gozd2 = pd.Series([ys_best[i] for i in xs_best_gozd_idx], name=\"klasifikacijska točnost\")\n",
    "x_svm2 = pd.Series([ys_best[i] for i in xs_best_svm_idx], name=\"klasifikacijska točnost\")\n",
    "x_logreg2 = pd.Series([ys_best[i] for i in xs_best_logreg_idx], name=\"klasifikacijska točnost\")"
   ]
  },
  {
   "cell_type": "code",
   "execution_count": 15,
   "id": "supported-audit",
   "metadata": {},
   "outputs": [
    {
     "data": {
      "image/png": "[encoded data removed]",
      "text/plain": [
       "<Figure size 720x720 with 4 Axes>"
      ]
     },
     "metadata": {},
     "output_type": "display_data"
    }
   ],
   "source": [
    "fig, axes = plt.subplots(nrows=4, ncols=1, figsize=(10,10), sharex=True, sharey=True)\n",
    "\n",
    "# plt.xlim([0.8, 0.9])\n",
    "sns.distplot(x_knn2, label=\"kNN\", rug=True, bins=10, ax=axes[0])\n",
    "axes[0].legend()\n",
    "sns.distplot(x_gozd2, label=\"Naključni gozd\", rug=True, bins=10, ax=axes[1])\n",
    "axes[1].legend()\n",
    "sns.distplot(x_svm2, label=\"SVM\", rug=True, bins=10, ax=axes[2])\n",
    "axes[2].legend()\n",
    "sns.distplot(x_logreg2, label=\"Logistična regresija\", rug=True, bins=10, ax=axes[3])\n",
    "axes[3].legend()\n",
    "plt.tight_layout()\n",
    "\n",
    "plt.show()"
   ]
  },
  {
   "cell_type": "markdown",
   "id": "significant-sociology",
   "metadata": {},
   "source": [
    "## 2.1 Vrečenje dreves\n",
    "\n",
    "Poglejmo si še  vrečenje dreves, tokrat na 1000 ponovitvah, da bomo rezultat primerjali z najboljšim algoritmom iz naše množice algoritmov."
   ]
  },
  {
   "cell_type": "code",
   "execution_count": 16,
   "id": "coordinate-redhead",
   "metadata": {},
   "outputs": [],
   "source": [
    "prostor_vrecenje = {\n",
    "    'n_estimators': hp.choice('n_estimators', range(1, 51)),\n",
    "    'max_samples': hp.choice('max_samples', range(1, 51)),\n",
    "    'max_features': hp.choice('max_features', range(1, 31)),\n",
    "}\n",
    "\n",
    "def kriterijska_funkcija_vrecenje(parametri):\n",
    "    n_estimators = parametri[\"n_estimators\"]\n",
    "    max_samples = parametri[\"max_samples\"]\n",
    "    max_features = parametri[\"max_features\"]\n",
    "    model = BaggingClassifier(n_estimators=n_estimators, max_samples=max_samples, max_features=max_features)\n",
    "    return 1-cross_val_score(model, x_train, y_train).mean() \n",
    "\n",
    "def poisci_najboljse_parametre(prostor, kriterijska_fun, n_izracunov):\n",
    "    trials = Trials()\n",
    "    best = fmin(fn=kriterijska_fun,\n",
    "                space=prostor,\n",
    "                algo=tpe.suggest,\n",
    "                max_evals=n_izracunov,\n",
    "                trials=trials)\n",
    "    best = space_eval(prostor, best)\n",
    "    best_value = kriterijska_fun(best)\n",
    "    # vse vrednosti paramtrov in kriterijske funkcije, ki smo jih preizkusili\n",
    "    xs = [trial[\"misc\"][\"vals\"] for trial in trials.trials]\n",
    "    ys = [1-trial[\"result\"][\"loss\"] for trial in trials.trials]\n",
    "\n",
    "    print(best, 1-best_value)\n",
    "    return best, xs, ys"
   ]
  },
  {
   "cell_type": "code",
   "execution_count": 17,
   "id": "pending-steps",
   "metadata": {},
   "outputs": [
    {
     "name": "stdout",
     "output_type": "stream",
     "text": [
      "100%|██████████| 300/300 [01:07<00:00,  4.43trial/s, best loss: 0.1197114794352363] \n",
      "{'max_features': 24, 'max_samples': 49, 'n_estimators': 29} 0.8702823818293431\n"
     ]
    }
   ],
   "source": [
    "best_vrecenje, xs_vrecenje, ys_vrecenje = poisci_najboljse_parametre(prostor_vrecenje, kriterijska_funkcija_vrecenje, 300)"
   ]
  },
  {
   "cell_type": "code",
   "execution_count": 18,
   "id": "tutorial-basic",
   "metadata": {},
   "outputs": [],
   "source": [
    "model_vrecenje = BaggingClassifier(\n",
    "                n_estimators = best_vrecenje[\"n_estimators\"],\n",
    "                max_samples = best_vrecenje[\"max_samples\"],\n",
    "                max_features = best_vrecenje[\"max_features\"])\n",
    "\n",
    "# zgradimo in naučimo model\n",
    "model_vrecenje.fit(x_train, y_train)\n",
    "y_predict_vrecenje = model_vrecenje.predict(x_test)"
   ]
  },
  {
   "cell_type": "code",
   "execution_count": 19,
   "id": "insured-daughter",
   "metadata": {},
   "outputs": [
    {
     "name": "stdout",
     "output_type": "stream",
     "text": [
      "Klasifikacijska točnost najboljšega vrečenja je: 0.8837209302325582\n"
     ]
    }
   ],
   "source": [
    "# model evalviramo na testni množici\n",
    "acc_vrecenje = accuracy_score(y_test, y_predict_vrecenje)\n",
    "print('Klasifikacijska točnost najboljšega vrečenja je:', acc_vrecenje)"
   ]
  },
  {
   "cell_type": "markdown",
   "id": "expired-tension",
   "metadata": {},
   "source": [
    "Končno izrišemo primerjavo med njaboljšim algoritmom in vrečenjem."
   ]
  },
  {
   "cell_type": "code",
   "execution_count": 20,
   "id": "earned-mobility",
   "metadata": {},
   "outputs": [
    {
     "data": {
      "image/png": "[encoded data removed]",
      "text/plain": [
       "<Figure size 864x576 with 2 Axes>"
      ]
     },
     "metadata": {},
     "output_type": "display_data"
    }
   ],
   "source": [
    "x_vrecenje = pd.Series(ys_vrecenje, name=\"klasifikacijska točnost\")\n",
    "\n",
    "fig, axes = plt.subplots(nrows=2, ncols=1, figsize=(12,8), sharex=True, sharey=True)\n",
    "\n",
    "sns.distplot(x_gozd2, label=\"Naključni gozd\", rug=True, bins=10, ax=axes[0])\n",
    "axes[0].legend()\n",
    "sns.distplot(x_vrecenje, label=\"Vrečenje dreves\", rug=True, bins=10, ax=axes[1])\n",
    "axes[1].legend()\n",
    "\n",
    "plt.show()"
   ]
  },
  {
   "cell_type": "markdown",
   "id": "closed-asian",
   "metadata": {},
   "source": [
    "# 3. ZAKLJUČEK"
   ]
  },
  {
   "cell_type": "markdown",
   "id": "precious-burton",
   "metadata": {},
   "source": [
    "Ugotovili smo, da je med našimi algoritmi najboljši Naključni gozd, ki \"zmaga\" tudi proti Vrečenju dreves. Ima pa naključni gozd nekoliko bolj razpotegnjeno porazdelitev točnosti, zato bi bilo zanimivo primerjati tudi, ali je naključni gozd v povprečju najboljši?"
   ]
  },
  {
   "cell_type": "code",
   "execution_count": 21,
   "id": "clean-variable",
   "metadata": {},
   "outputs": [],
   "source": [
    "from statistics import mean\n",
    "\n",
    "knn_avg, gozd_avg, svm_avg, logreg_avg, vrecenje_avg = mean(x_knn2), mean(x_gozd2), mean(x_svm2), mean(x_logreg2), mean(x_vrecenje)\n",
    "knn_top, gozd_top, svm_top, logreg_top, vrecenje_top = max(x_knn2), max(x_gozd2), max(x_svm2), max(x_logreg2), max(x_vrecenje)"
   ]
  },
  {
   "cell_type": "code",
   "execution_count": 22,
   "id": "hungry-lexington",
   "metadata": {},
   "outputs": [
    {
     "name": "stdout",
     "output_type": "stream",
     "text": [
      "Najboljši kNN: 0.8780417434008594 |  Povprečen kNN: 0.8627142654766965\n",
      "Najboljši RF:  0.8913812154696131 |  Povprečen RF:  0.8749969955924529\n",
      "Najboljši SVC: 0.8813627992633517 |  Povprečen SVC: 0.8619819345786196\n",
      "Najboljša LR:  0.8869122160834868 |  Povprečna LR:  0.869145222570637\n",
      "--------------------------------------------------------------------------------\n",
      "Najboljše vrečenje: 0.8802885205647637 |  Povprečno vrečenje: 0.8560555964804584\n"
     ]
    }
   ],
   "source": [
    "print('Najboljši kNN:', knn_top, '|  Povprečen kNN:', knn_avg)\n",
    "print('Najboljši RF: ', gozd_top, '|  Povprečen RF: ', gozd_avg)\n",
    "print('Najboljši SVC:', svm_top, '|  Povprečen SVC:', svm_avg)\n",
    "print('Najboljša LR: ', logreg_top, '|  Povprečna LR: ', logreg_avg)\n",
    "print('-'*80)\n",
    "print('Najboljše vrečenje:', vrecenje_top, '|  Povprečno vrečenje:', vrecenje_avg)"
   ]
  },
  {
   "cell_type": "markdown",
   "id": "grateful-separate",
   "metadata": {},
   "source": [
    "Opazimo, da je naključni gozd najboljši algoritem na naših podatkih (tako v povprečju, kot tudi v najboljšem primeru).\n",
    "\n",
    "Dodatna razlaga, komentarji grafov in ideje za izboljšave so zapisane v priloženem poročilu."
   ]
  },
  {
   "cell_type": "code",
   "execution_count": null,
   "id": "appropriate-afghanistan",
   "metadata": {},
   "outputs": [],
   "source": []
  }
 ],
 "metadata": {
  "kernelspec": {
   "display_name": "Python 3",
   "language": "python",
   "name": "python3"
  },
  "language_info": {
   "codemirror_mode": {
    "name": "ipython",
    "version": 3
   },
   "file_extension": ".py",
   "mimetype": "text/x-python",
   "name": "python",
   "nbconvert_exporter": "python",
   "pygments_lexer": "ipython3",
   "version": "3.8.8"
  }
 },
 "nbformat": 4,
 "nbformat_minor": 5
}
